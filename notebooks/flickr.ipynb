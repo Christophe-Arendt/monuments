{
 "cells": [
  {
   "cell_type": "markdown",
   "id": "alpha-american",
   "metadata": {},
   "source": [
    "# Scrap flickr"
   ]
  },
  {
   "cell_type": "code",
   "execution_count": 2,
   "id": "international-cloud",
   "metadata": {},
   "outputs": [
    {
     "name": "stdout",
     "output_type": "stream",
     "text": [
      "Requirement already satisfied: flickrapi in /home/christophearendt/.pyenv/versions/3.8.6/envs/lewagon/lib/python3.8/site-packages (2.4.0)\n",
      "Requirement already satisfied: six>=1.5.2 in /home/christophearendt/.pyenv/versions/3.8.6/envs/lewagon/lib/python3.8/site-packages (from flickrapi) (1.15.0)\n",
      "Requirement already satisfied: requests-toolbelt>=0.3.1 in /home/christophearendt/.pyenv/versions/3.8.6/envs/lewagon/lib/python3.8/site-packages (from flickrapi) (0.9.1)\n",
      "Requirement already satisfied: requests>=2.2.1 in /home/christophearendt/.pyenv/versions/3.8.6/envs/lewagon/lib/python3.8/site-packages (from flickrapi) (2.25.1)\n",
      "Requirement already satisfied: requests-oauthlib>=0.4.0 in /home/christophearendt/.pyenv/versions/3.8.6/envs/lewagon/lib/python3.8/site-packages (from flickrapi) (1.3.0)\n",
      "Requirement already satisfied: certifi>=2017.4.17 in /home/christophearendt/.pyenv/versions/3.8.6/envs/lewagon/lib/python3.8/site-packages (from requests>=2.2.1->flickrapi) (2020.12.5)\n",
      "Requirement already satisfied: chardet<5,>=3.0.2 in /home/christophearendt/.pyenv/versions/3.8.6/envs/lewagon/lib/python3.8/site-packages (from requests>=2.2.1->flickrapi) (3.0.4)\n",
      "Requirement already satisfied: urllib3<1.27,>=1.21.1 in /home/christophearendt/.pyenv/versions/3.8.6/envs/lewagon/lib/python3.8/site-packages (from requests>=2.2.1->flickrapi) (1.26.2)\n",
      "Requirement already satisfied: idna<3,>=2.5 in /home/christophearendt/.pyenv/versions/3.8.6/envs/lewagon/lib/python3.8/site-packages (from requests>=2.2.1->flickrapi) (2.10)\n",
      "Requirement already satisfied: oauthlib>=3.0.0 in /home/christophearendt/.pyenv/versions/3.8.6/envs/lewagon/lib/python3.8/site-packages (from requests-oauthlib>=0.4.0->flickrapi) (3.1.0)\n",
      "\u001b[33mWARNING: You are using pip version 21.2.4; however, version 21.3.1 is available.\n",
      "You should consider upgrading via the '/home/christophearendt/.pyenv/versions/3.8.6/envs/lewagon/bin/python3.8 -m pip install --upgrade pip' command.\u001b[0m\n"
     ]
    }
   ],
   "source": [
    "#!pip install flickrapi\n"
   ]
  },
  {
   "cell_type": "code",
   "execution_count": null,
   "id": "invisible-usage",
   "metadata": {},
   "outputs": [],
   "source": [
    "from flickrapi import FlickrAPI\n",
    "from urllib.request import urlretrieve\n",
    "from pprint import pprint\n",
    "import os,time,sys\n",
    "\n",
    "\n",
    "key = \"Obtained key\"\n",
    "secret = \"Acquired Secret\"\n",
    "wait_time = 1\n",
    "\n",
    "#Get the first value of the command line argument. In the following cases[cat]Get\n",
    "# python download.py cat \n",
    "animalname = sys.argv[1]\n",
    "savedir = \"./\"+animalname\n",
    "\n",
    "\n",
    "# format:Data to receive(Receive with json)\n",
    "flickr = FlickrAPI(key, secret, format='parsed-json')\n",
    "\n",
    "\"\"\"\n",
    "text :Search keyword\n",
    "per_page :Number of data you want to acquire\n",
    "media :Type of data to search\n",
    "sort :Sequence of data\n",
    "safe_seach :Whether to display UI content\n",
    "extras :The value of the option you want to get(url_q Image address information)\n",
    "\"\"\"\n",
    "result  = flickr.photos.search(\n",
    "    text = animalname,\n",
    "    per_page = 400,\n",
    "    media = 'photos',\n",
    "    sort = 'relevance',\n",
    "    safe_seach = 1,\n",
    "    extras = 'url_q, licence'\n",
    ")\n",
    "\n",
    "#result\n",
    "photos = result['photos']\n",
    "pprint(photos)"
   ]
  }
 ],
 "metadata": {
  "kernelspec": {
   "display_name": "Python 3 (ipykernel)",
   "language": "python",
   "name": "python3"
  },
  "language_info": {
   "codemirror_mode": {
    "name": "ipython",
    "version": 3
   },
   "file_extension": ".py",
   "mimetype": "text/x-python",
   "name": "python",
   "nbconvert_exporter": "python",
   "pygments_lexer": "ipython3",
   "version": "3.8.6"
  },
  "toc": {
   "base_numbering": 1,
   "nav_menu": {},
   "number_sections": false,
   "sideBar": true,
   "skip_h1_title": false,
   "title_cell": "Table of Contents",
   "title_sidebar": "Contents",
   "toc_cell": false,
   "toc_position": {},
   "toc_section_display": true,
   "toc_window_display": false
  }
 },
 "nbformat": 4,
 "nbformat_minor": 5
}
